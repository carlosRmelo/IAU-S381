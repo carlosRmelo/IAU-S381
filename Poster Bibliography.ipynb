{
 "cells": [
  {
   "cell_type": "markdown",
   "metadata": {},
   "source": [
    "<br>\n",
    "<br>\n",
    "\n",
    "\n",
    "<font size=\"20\"><span style=\"color:purple\"><strong>References</strong></span></font>\n"
   ]
  },
  {
   "cell_type": "markdown",
   "metadata": {},
   "source": [
    "1. Will, C. M. (2018). Theory and Experiment in Gravitational Physics. In Cambridge University Press.<br><br>\n",
    "2. Ishak, M. (2019). Testing general relativity in cosmology. Living Rev. in Relativ., 22(1).<br><br>\n",
    "3. Bertschinger, E. 2011, Phil. Trans. R. Soc. A. (1957), 369, 4947–4961.<br><br>\n",
    "4. Schwab, J., Bolton, A. S., & Rappaport, S. A. (2010). Galaxy-Scale Strong-Lensing Tests of Gravity and Geometric Cosmology: Constraints and Systematic Limitations.  ApJ, 708(1), 750–757.<br><br>\n",
    "5. Collett et al. (2018). A precise extragalactic test of General Relativity. Science, 360(6395), 1342–1346.<br><br>\n",
    "6. Cao, S. et. al. (2017). Test of parametrized post-Newtonian gravity with galaxy-scale strong lensing systems. A.J. 835(1), 92.<br><br>\n",
    "7. Pizzuti, L. et. al. (2016). CLASH-VLT: Testing the nature of gravity with galaxy cluster mass profiles. J. Cosmol. Astropart., 2016(4). <br><br>\n",
    "8. Negrello et al. (2010). The Detection of a Population of Submillimeter-Bright, Strongly Lensed Galaxies. Science, 330(6005), 800–804.<br><br>\n",
    "9. Vlahakis et al. (2015). The 2014 alma long baseline campaign: Observations of the strongly lensed submillimeter galaxy hatlas J090311.6+003906 at z = 3.042. Astrophys. J. Lett., 808(1).<br><br>\n",
    "10.  Cappellari, M. (2002). Efficient multi-Gaussian expansion of galaxies. MNRAS 333(2), 400–410.<br><br>\n",
    "11. Navarro, J. F., Frenk, C. S., & White, S. D. M. (1997). A Universal Density Profile from Hierarchical Clustering. ApJ 490(2), 493–508.<br><br>\n",
    "12. Nightingale, J. W., Dye, S., & Massey, R. J. (2018). AutoLens: automated modeling of a strong lens’s light, mass, and source. MNRAS, 478(4), 4738–4784.<br><br>\n",
    "13. Cappellari, M. (2008). Measuring the inclination and mass-to-light ratio of axisymmetric galaxies via anisotropic Jeans models of stellar kinematics. MNRAS, 390(1), 71–86.<br><br>\n",
    "14. Speagle, J. S. (2020). dynesty: a dynamic nested sampling package for estimating Bayesian posteriors and evidences. MNRAS, 493(3), 3132–3158.<br><br>\n",
    "15. Dye, S. et. al. (2015). Revealing the complex nature of the strong gravitationally lensed system H-ATLAS J090311.6+003906 using ALMA. MNRAS, 452(3), 2258–2268.<br><br>\n",
    "16. Vlahakis, C. et. al. (2015). The 2014 alma long baseline campaign: Observations of the strongly lensed submillimeter galaxy hatlas J090311.6+003906 at z = 3.042. ApJL, 808(1).<br><br>\n",
    "17. Sonnenfeld, A. et. al. (2015). THE SL2S GALAXY-SCALE LENS SAMPLE. V. DARK MATTER HALOS AND STELLAR IMF OF MASSIVE EARLY-TYPE GALAXIES OUT TO REDSHIFT 0.8. ApJ, 800(2), 94. <br><br>\n",
    "18. Planck Collaboration (2016). Planck 2015 results. A&A, 594, A13.<br><br> \n",
    "19. Shajib, A. et. al. (2020). STRIDES: a 3.9 per cent measurement of the Hubble constant from the strong lens system DES J0408−5354. MNRAS, 494(4), 6072–6102.<br><br>\n",
    "20. Millon, M. et. al. (2020). TDCOSMO. A&A,  639, A101.<br><br> \n",
    "21. Vazdekis, A. et. al. (2010). Evolutionary stellar population synthesis with MILES - I. The base models and a new line index system. MNRAS, 404(4), 1639–1671.<br><br>\n",
    "22. Gonneau, A. et. al. (2020). The X-shooter Spectral Library (XSL): Data release 2. A&A, 634, A133.<br><br> "
   ]
  },
  {
   "cell_type": "markdown",
   "metadata": {},
   "source": [
    "-----"
   ]
  },
  {
   "cell_type": "markdown",
   "metadata": {},
   "source": [
    "__Date: 05/06/2023 <br>__\n",
    "__Author: Carlos Melo (<carlos.melo@ufrgs.br>) <br>__\n",
    "__Last Modified: 05/06/2023 by Carlos Melo (<carlos.melo@ufrgs.br>) <br>__\n",
    "\n",
    "\n",
    "List of references related to the poster presentation *Probing general relativity in galactic scales at z ∼ 0.3*, in IAU-S381 - Strong gravitational lensing in the era of Big Data.\n",
    "\n",
    "See also the full work in detail at: https://doi.org/10.1093/mnras/stad162"
   ]
  }
 ],
 "metadata": {
  "kernelspec": {
   "display_name": "Python 3",
   "language": "python",
   "name": "python3"
  },
  "language_info": {
   "codemirror_mode": {
    "name": "ipython",
    "version": 3
   },
   "file_extension": ".py",
   "mimetype": "text/x-python",
   "name": "python",
   "nbconvert_exporter": "python",
   "pygments_lexer": "ipython3",
   "version": "3.7.6"
  }
 },
 "nbformat": 4,
 "nbformat_minor": 4
}
