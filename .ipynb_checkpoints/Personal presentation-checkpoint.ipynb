{
 "cells": [
  {
   "cell_type": "markdown",
   "metadata": {},
   "source": [
    "<img src=\"./images/me.jpeg\" \n",
    "     align=\"right\" \n",
    "     style=\"height: 300px;\" />\n",
    "\n",
    "<font size=\"3\">\n",
    "Hi! <br>\n",
    "<p style=\"text-align:justify; margin-right: 350px\">My name is Carlos Melo (he/him), a 2nd year PhD student at Universidade Federal do Rio Grande do Sul (UFRGS) in Porto Alegre - Brazil. \n",
    "\n",
    "<p style=\"text-align:justify; margin-right: 350px\">I am particularly interested in cosmology, gravitational lensing, and galactic dynamics, and how we can cleverly combine these different fields. Outside of my research, I'm a huge fan of sci-fi books and films (even if some of them may have questionable quality!).\n",
    "\n",
    "    \n",
    "Contact:<br>\n",
    "e-mail: <carlos.melo@ufrgs.br> <br>\n",
    "GitHub: https://github.com/carlosRmelo\n",
    "    \n",
    "\n",
    "<br>\n",
    "-------------------------------------\n",
    "\n",
    "__Contents__\n",
    "    \n",
    "* [Cosmological Probes](#Cosmo)\n",
    "* [Galaxy Evolution](#GalEvo)"
   ]
  },
  {
   "cell_type": "markdown",
   "metadata": {},
   "source": [
    "Cosmological Probes <a class=\"anchor\" id=\"Cosmo\"></a>\n",
    "==============================\n",
    "<br>\n",
    "\n",
    "\n",
    "<font size=\"3\">\n",
    "<p style=\"text-align:justify;\">During my Master's (2019-2021, UFRGS), I looked for ways we could use different datasets, specifically gravitational lensing and integral field spectroscopy (IFS), to probe General Relativity (GR) in a extragalactic environment. I wanted to see how we could combine them cleverly to push the boundaries of our understanding of gravity.\n",
    "    \n",
    "<p style=\"text-align:justify;\">By measuring the mass of an extragalactic object in two different ways, we could see if the predictions of GR were correct (of course, respecting the uncertainties). I mean, according to GR (and some other assumptions, like a vanishing anisotropic stress tensor) the masses measured by dynamics and lensing should be equal. So, combining measurements of lens modelling and dynamical modelling (in a self-consistent way) provides a way to probe GR outside the Milky Way.\n",
    "    \n",
    "<p style=\"text-align:justify;\">Just one year before, a groundbreaking study by [Collett et. al. (2018)](https://ui.adsabs.harvard.edu/abs/2018Sci...360.1342C/abstract) had already applied this idea to probe GR in a lens system at z=0.035, using data from the Hubble Space Telescope (HST) and the Multi Unit Spectroscopic Explorer (MUSE). However, I was interested to push the boundaries even further by exploring a much more distant lens system at redshift z=0.3. To achieve this, I combined not only the HST and MUSE data, but also high-resolution observations from the Atacama Large Millimeter/submillimeter Array (ALMA), which allowed the study the lensed galaxy with an unprecedented resolution. \n",
    "\n",
    "<p style=\"text-align:justify;\">This work led to a published paper by MNRAS, where after a carryfull analysis of statistical and  systematical uncertenties, we could recover GR! Check out our paper in <a href=\"https://ui.adsabs.harvard.edu/abs/2023MNRAS.520.1613M/abstract\">Melo-Carneiro, C. R., Furlanetto, C., & Chies-Santos, A. L. (2023)</a>, or send me an email, and I'll be happy to share more about it.\n",
    "\n",
    "<table>\n",
    "<tr>\n",
    "    <td style=\"background-color: #FFFFFF;\"> <img src=\"./images/image.png\" alt=\"Forwarding\" style=\"width: 300px;\"/> </td>\n",
    "<td style=\"background-color: #FFFFFF;\"> <img src=\"./images/model.png\" alt=\"Forwarding\" style=\"width: 300px;\"/> </td>\n",
    "<td style=\"background-color: #FFFFFF;\"> <img src=\"./images/reconstruction.png\" alt=\"Forwarding\" style=\"width: 300px;\"/> </td>\n",
    "</tr>\n",
    "<caption style=\"caption-side:bottom; font-size: 1.2rem; color: gray\"><p style=\"text-align:center;\">On the right, we have an image of the SDP.81 lens system captured by the ALMA telescope. Due to the spectral window of the observations (band 7 continuum), only the background emission of the source is visible (Amazing, isn't it?). In the middle panel, we present the most probable model after the combined modelling of lens and kinematical data. Finally, in the last panel, we present the reconstructed source at z=3.042, which could also be used to study the distant universe, like in \n",
    "<a href=\"https://ui.adsabs.harvard.edu/abs/2015MNRAS.452.2258D/abstract\">Dye et. al. (2015)</a>.\n",
    "</caption>\n",
    "</table>"
   ]
  },
  {
   "cell_type": "markdown",
   "metadata": {},
   "source": [
    "-----"
   ]
  },
  {
   "cell_type": "markdown",
   "metadata": {},
   "source": [
    "<div style=\"text-align: right;\">\n",
    "    \n",
    "Galaxy Evolution <a class=\"anchor\" id=\"GalEvo\"></a>\n",
    "==============================\n",
    "<br>\n",
    "\n",
    "<div style=\"text-align: left;\">\n",
    "<font size=\"3\">\n",
    "<p style=\"text-align:justify;\">But gravitational lensing combined with galactic kinematics is not only limited to cosmological probes. In fact, several seminal works such as <a href=\"https://ui.adsabs.harvard.edu/abs/2003ApJ...583..606K/abstract\">Koopmans & Treu (2003)</a>, <a href=\"https://ui.adsabs.harvard.edu/abs/2006ApJ...649..599K\">Koopmans et. al. (2006)</a>, and <a href=\"https://ui.adsabs.harvard.edu/abs/2015ApJ...800...94S/abstract\">Sonnenfeld et. al. (2015)</a> (just to cite some of them) have shown that combining these different traces can break certain degeneracies in the modelling and be used to study various properties of lens galaxies. These properties could give us insights into the evolution of these systems. <br>\n",
    " \n",
    "<p style=\"text-align:justify;\">How can we better understand the nature of dark matter in these systems? Do the total mass distribution in these systems \"conspires\" to follow the isothermal distribution seen in nearby galaxies? Can we accurately determine the mass-to-light ratio of these systems, and how can this improve our understanding of the initial mass function? These are just a few of the important questions that can be addressed through the combination of gravitational lensing and galactic kinematics. Furthermore, it is crucial to ask ourselves how we can assess the reliability and accuracy of the inferred properties. This is precisely the question that drives my current research. <br>\n",
    "    \n",
    "<p style=\"text-align:justify;\">In the past, some studies have already investigated this issues, but most of them relied solely on an integrated measure of the lens velocity dispersion (a know exception is the work by <a href=\"https://ui.adsabs.harvard.edu/abs/2007ApJ...666..726B/abstract\">Barnabè & Koopmans</a> in 2007). With the use of IFU data, we hope to improve the accuracy of our measurements of lens properties. However, this still requires further investigation to determine the extent of this improvement and to identify any potential biases we may be subject to. <br>\n",
    "    \n",
    "<p style=\"text-align:justify;\">Perhaps using hydrodynamical simulations is the best way to achieve this, as we can obtain the whole galaxy information, including the kinematics of its stars, its mass distribution, dark matter content, and so forth. <br>\n",
    "\n",
    "<p style=\"text-align:center\"><iframe \n",
    "        width=\"560\" \n",
    "        height=\"315\" \n",
    "        src=\"https://www.youtube.com/embed/rBC3FZIUIrw\" \n",
    "        title=\"IllustrisTNG 50 - Formation of elliptical galaxy in Virgo-like Cluster\" \n",
    "        frameborder=\"0\" \n",
    "        allow=\"accelerometer; autoplay; clipboard-write; encrypted-media; gyroscope; picture-in-picture; web-share\" \n",
    "        allowfullscreen></iframe></p>\n",
    "\n",
    "\n",
    "<p style=\"text-align:center; font-size: 1.2rem; color: gray\"><i>The assembly of a single massive elliptical galaxy \"g2\" in TNG50, tracked through time. By redshift zero this system will merge into the BCG of a Virgo-mass galaxy cluster (10¹⁴ solar masses). The progenitor of this galaxy undergoes rapid star formation in a turbulent, extended disk until intermediate times, when it starts to quench due to the action of its central blackhole. Vigorous major and minor merger activity transforms it from a disk into an elliptical system; an extremely complex interplay of multi-phase gas processes in its circumgalactic medium is visible throughout. The inset in the lower left shows the large-scale environment, while insets in the lower right zoom into the central galaxy itself (gas and stars). We pause at z=1.5 and rotate around the inner halo, showing: gas metallicity, velocity field, radial velocity, and H-alpha light. We pause again at the end of the movie and show H-alpha light followed by magnetic field strength.</i> Video and text provided by the IllustrisTNG Media team - see <a href=\"https://www.tng-project.org/media/\">IllustrisTNG Media</a>.</p><br>\n",
    "    \n",
    "<p style=\"text-align:justify;\">With this idea in mind, we are now using the IllustrisTNG hydrodynamical simulation to create mock lens and kinematical data in order to further investigate these aspects. Starting from the particle data, we can project them to create a surface mass profile, as well as a projected kinematical map of the particles. With the surface mass profile, we can easily ray-trace a parametric light profile which represents a source galaxy, mimicking the lensing phenomena. The final step is to incorporate some observational effects and limitations, such as the number of spaxels in the kinematical data or the signal-to-noise ratio in the lensed arcs.<br>\n",
    "\n",
    "<img src=\"./images/candidates.png\" \n",
    "     align=\"left\" \n",
    "     style=\"height: 300px;\" />\n",
    "    \n",
    "<p style=\"text-align:justify; font-size: 1.2rem; color: gray;margin-left: 560px\"><br><br><br><br><br><br>Here are two sets of mock data obtained from IllustrisTNG-50 snapshot 84 (z ~ 0.2). In the left panel, we can see the lensed source, while the middle panel displays the root-mean-square velocity map. Finally, the panel on the right shows the $V$ over $\\sigma_V$ map, which indicates where the galaxy is velocity dominated.</p><br>\n",
    "\n",
    "\n",
    "<p style=\"text-align:justify;\">We can use the mock data generated from the IllustrisTNG hydrodynamical simulation to perform a self-consistent modeling by solving the Jeans Equations for the dynamical model and the Lens Equations for the lens model. This allows us to infer the properties of the galaxy and evaluate the accuracy of our predictions. To perform this joint modeling, we utilize the <a href=\"https://www-astro.physics.ox.ac.uk/~cappellari/software/#jam\">JAM</a> and <a href=\"https://pyautolens.readthedocs.io/en/latest/\">PyAutoLens</a> codes, and perform a full Bayesian exploration of the parameters using <a href=\"https://dynesty.readthedocs.io/en/stable/\">dynesty</a>.\n",
    "    \n",
    "<p style=\"text-align:justify;\">This work is still in progress, so we don't have much more to say at this point. However, we have already obtained some promising results. For instance, in the third panel below, we can see the improvement in the total mass recovery by the joint analysis for most of the subhalos (albeit the sample size is still small). Nonetheless, these are preliminary results, and we need to increase the number of samples as much as possible before making any strong claims.</p> <img src=\"./images/results.png\" \n",
    "     align=\"right\" \n",
    "     style=\"height: 400px\" />\n",
    "<p style=\"text-align:justify;\"><br>If this has caught your interest or if you have any thoughts or suggestions, please do let me know. I'm looking for ways to improve our approach (or things that I could be missing) and I'll be glad to get a different perspective and collaborate!"
   ]
  },
  {
   "cell_type": "markdown",
   "metadata": {},
   "source": [
    "----"
   ]
  }
 ],
 "metadata": {
  "kernelspec": {
   "display_name": "Python 3",
   "language": "python",
   "name": "python3"
  },
  "language_info": {
   "codemirror_mode": {
    "name": "ipython",
    "version": 3
   },
   "file_extension": ".py",
   "mimetype": "text/x-python",
   "name": "python",
   "nbconvert_exporter": "python",
   "pygments_lexer": "ipython3",
   "version": "3.7.6"
  }
 },
 "nbformat": 4,
 "nbformat_minor": 4
}
